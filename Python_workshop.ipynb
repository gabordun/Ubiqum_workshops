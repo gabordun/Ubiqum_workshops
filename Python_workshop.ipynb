{
  "nbformat": 4,
  "nbformat_minor": 0,
  "metadata": {
    "colab": {
      "name": "Python_workshop.ipynb",
      "version": "0.3.2",
      "provenance": [],
      "collapsed_sections": []
    },
    "kernelspec": {
      "name": "python3",
      "display_name": "Python 3"
    }
  },
  "cells": [
    {
      "cell_type": "code",
      "metadata": {
        "id": "_-EaV60-jddU",
        "colab_type": "code",
        "outputId": "5aa94f29-8aea-40e7-cd52-ad88c461a87d",
        "colab": {
          "base_uri": "https://localhost:8080/",
          "height": 68
        }
      },
      "source": [
        "#Q1\n",
        "\n",
        "birthy = [1999, 1995, 2005, 2010, 2007, 2006, 1994, 1996, 1979, 2008]\n",
        "currenty = 2019\n",
        "\n",
        "print (currenty)\n",
        "print (birthy)\n",
        "\n",
        "import numpy as np\n",
        "\n",
        "def age():\n",
        "  result = np.array(currenty)-np.array(birthy)\n",
        "  return (result)\n",
        "  \n",
        "age()\n",
        "AGE=list(age())\n",
        "AGE"
      ],
      "execution_count": 76,
      "outputs": [
        {
          "output_type": "stream",
          "text": [
            "2019\n",
            "[1999, 1995, 2005, 2010, 2007, 2006, 1994, 1996, 1979, 2008]\n"
          ],
          "name": "stdout"
        },
        {
          "output_type": "execute_result",
          "data": {
            "text/plain": [
              "[20, 24, 14, 9, 12, 13, 25, 23, 40, 11]"
            ]
          },
          "metadata": {
            "tags": []
          },
          "execution_count": 76
        }
      ]
    },
    {
      "cell_type": "code",
      "metadata": {
        "id": "p9iStbIPoQJq",
        "colab_type": "code",
        "outputId": "c5f9d88f-f92a-49c8-c7ad-02318abd9d95",
        "colab": {
          "base_uri": "https://localhost:8080/",
          "height": 68
        }
      },
      "source": [
        "#experiments\n",
        "\n",
        "print(max(AGE))\n",
        "print(min(AGE))\n",
        "\n",
        "MAX=max(age())\n",
        "MIN=min(age())\n",
        "\n",
        "result2 = [x for x in AGE if x != MAX]\n",
        "result2 = [x for x in result2 if x != MIN]\n",
        "print(result2)"
      ],
      "execution_count": 77,
      "outputs": [
        {
          "output_type": "stream",
          "text": [
            "40\n",
            "9\n",
            "[20, 24, 14, 12, 13, 25, 23, 11]\n"
          ],
          "name": "stdout"
        }
      ]
    },
    {
      "cell_type": "code",
      "metadata": {
        "id": "N_ev7ZMfmHwh",
        "colab_type": "code",
        "outputId": "c8f1c8f1-36c9-445c-983b-7c40d2c1d42d",
        "colab": {
          "base_uri": "https://localhost:8080/",
          "height": 34
        }
      },
      "source": [
        "#Q2\n",
        "\n",
        "def outlier():\n",
        "  MAX=max(age())\n",
        "  MIN=min(age())\n",
        "\n",
        "  result2 = [x for x in AGE if x != MAX]\n",
        "  result2 = [x for x in result2 if x != MIN]\n",
        "  return (result2)\n",
        "\n",
        "print(outlier())\n"
      ],
      "execution_count": 78,
      "outputs": [
        {
          "output_type": "stream",
          "text": [
            "[20, 24, 14, 12, 13, 25, 23, 11]\n"
          ],
          "name": "stdout"
        }
      ]
    },
    {
      "cell_type": "code",
      "metadata": {
        "id": "HYHCZyury9NM",
        "colab_type": "code",
        "colab": {
          "base_uri": "https://localhost:8080/",
          "height": 34
        },
        "outputId": "3c807f3b-2f3b-4372-ee89-eaca5239c92c"
      },
      "source": [
        "#Q3\n",
        "\n",
        "berlin = [15, 13, 16, 18, 19, 15,9, 10]\n",
        "munich = [13, 15, 20, 19, 17, 10, 16, 15]\n",
        "\n",
        "def commonage():\n",
        "  result3= [x for x in berlin if x in munich]\n",
        "  return (result3)\n",
        "\n",
        "print(commonage())\n"
      ],
      "execution_count": 79,
      "outputs": [
        {
          "output_type": "stream",
          "text": [
            "[15, 13, 16, 19, 15, 10]\n"
          ],
          "name": "stdout"
        }
      ]
    },
    {
      "cell_type": "code",
      "metadata": {
        "id": "XindUxvC0ZIn",
        "colab_type": "code",
        "colab": {
          "base_uri": "https://localhost:8080/",
          "height": 34
        },
        "outputId": "2a8f1374-ad14-4317-d4fe-1c84df81fb99"
      },
      "source": [
        "#Q4\n",
        "\n",
        "berlin = [15, 13, 16, 18, 19, 15,9, 10]\n",
        "munich = [13, 15, 20, 19, 17, 10, 16, 15]\n",
        "\n",
        "def uniquecommonage():\n",
        "  result3= [x for x in berlin if x in munich]\n",
        "  return (set(result3))\n",
        "\n",
        "print(uniquecommonage())"
      ],
      "execution_count": 82,
      "outputs": [
        {
          "output_type": "stream",
          "text": [
            "{10, 13, 15, 16, 19}\n"
          ],
          "name": "stdout"
        }
      ]
    },
    {
      "cell_type": "code",
      "metadata": {
        "id": "Y9jAJ64g1Nr2",
        "colab_type": "code",
        "colab": {
          "base_uri": "https://localhost:8080/",
          "height": 34
        },
        "outputId": "3069b284-1348-459a-d46c-2b2fa710bc56"
      },
      "source": [
        "#Q5\n",
        "\n",
        "values=[15,13,16,18,19,15,10]\n",
        "c=15\n",
        "\n",
        "def presentage():\n",
        "  \n",
        "  if c in values:\n",
        "   return True\n",
        "  else:\n",
        "   return False\n",
        "\n",
        "print(presentage())"
      ],
      "execution_count": 106,
      "outputs": [
        {
          "output_type": "stream",
          "text": [
            "True\n"
          ],
          "name": "stdout"
        }
      ]
    }
  ]
}