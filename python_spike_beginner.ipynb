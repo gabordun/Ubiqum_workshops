{
  "nbformat": 4,
  "nbformat_minor": 0,
  "metadata": {
    "colab": {
      "name": "python spike beginner.ipynb",
      "version": "0.3.2",
      "provenance": [],
      "collapsed_sections": []
    },
    "kernelspec": {
      "name": "python3",
      "display_name": "Python 3"
    }
  },
  "cells": [
    {
      "cell_type": "code",
      "metadata": {
        "id": "nAOZwXF2HaUO",
        "colab_type": "code",
        "colab": {}
      },
      "source": [
        "l = ['rekha','bahij','mizuki','yigit',5, 5.05,['3', 4,5]]"
      ],
      "execution_count": 0,
      "outputs": []
    },
    {
      "cell_type": "code",
      "metadata": {
        "id": "DYB3du5THhal",
        "colab_type": "code",
        "outputId": "8c562844-1bd0-48c4-dafa-2be8f4c60ea0",
        "colab": {
          "base_uri": "https://localhost:8080/",
          "height": 34
        }
      },
      "source": [
        "l[0:3]"
      ],
      "execution_count": 0,
      "outputs": [
        {
          "output_type": "execute_result",
          "data": {
            "text/plain": [
              "['rekha', 'bahij', 'mizuki']"
            ]
          },
          "metadata": {
            "tags": []
          },
          "execution_count": 5
        }
      ]
    },
    {
      "cell_type": "code",
      "metadata": {
        "id": "1TuHgNphHhvh",
        "colab_type": "code",
        "outputId": "0837f5a1-f763-498c-c3e1-4e1cd049e87e",
        "colab": {
          "base_uri": "https://localhost:8080/",
          "height": 34
        }
      },
      "source": [
        "l[1]"
      ],
      "execution_count": 0,
      "outputs": [
        {
          "output_type": "execute_result",
          "data": {
            "text/plain": [
              "2"
            ]
          },
          "metadata": {
            "tags": []
          },
          "execution_count": 8
        }
      ]
    },
    {
      "cell_type": "code",
      "metadata": {
        "id": "QcseEAIYHnDO",
        "colab_type": "code",
        "outputId": "ae875521-481b-42c2-946a-0f341511cdc2",
        "colab": {
          "base_uri": "https://localhost:8080/",
          "height": 34
        }
      },
      "source": [
        "l[2:4]"
      ],
      "execution_count": 0,
      "outputs": [
        {
          "output_type": "execute_result",
          "data": {
            "text/plain": [
              "[3, 4]"
            ]
          },
          "metadata": {
            "tags": []
          },
          "execution_count": 9
        }
      ]
    },
    {
      "cell_type": "code",
      "metadata": {
        "id": "IW8FBqGUHzPN",
        "colab_type": "code",
        "colab": {}
      },
      "source": [
        "fruits = ['orange', 'apple', 'pear', 'banana', 'kiwi', 'apple', 'banana']"
      ],
      "execution_count": 0,
      "outputs": []
    },
    {
      "cell_type": "code",
      "metadata": {
        "id": "0DHCI002H_mt",
        "colab_type": "code",
        "outputId": "85e4fb87-cce0-4b1b-8127-fc9285889870",
        "colab": {
          "base_uri": "https://localhost:8080/",
          "height": 34
        }
      },
      "source": [
        "fruits.index('apple')"
      ],
      "execution_count": 0,
      "outputs": [
        {
          "output_type": "execute_result",
          "data": {
            "text/plain": [
              "1"
            ]
          },
          "metadata": {
            "tags": []
          },
          "execution_count": 7
        }
      ]
    },
    {
      "cell_type": "code",
      "metadata": {
        "id": "v3jecqJYIEPS",
        "colab_type": "code",
        "outputId": "0ce7d1d0-2e72-4e21-eb51-949fdec9e0cb",
        "colab": {
          "base_uri": "https://localhost:8080/",
          "height": 34
        }
      },
      "source": [
        "fruits.index('banana', 4)  # Find next banana starting a position 4"
      ],
      "execution_count": 0,
      "outputs": [
        {
          "output_type": "execute_result",
          "data": {
            "text/plain": [
              "6"
            ]
          },
          "metadata": {
            "tags": []
          },
          "execution_count": 12
        }
      ]
    },
    {
      "cell_type": "code",
      "metadata": {
        "id": "en_EcgCLIOW6",
        "colab_type": "code",
        "outputId": "9c4684ff-d3ca-4700-e18f-875cb6ec9370",
        "colab": {
          "base_uri": "https://localhost:8080/",
          "height": 34
        }
      },
      "source": [
        "fruits[0] = 'orange'\n",
        "\n",
        "fruits"
      ],
      "execution_count": 0,
      "outputs": [
        {
          "output_type": "execute_result",
          "data": {
            "text/plain": [
              "['orange', 'apple', 'banana', 'banana', 'kiwi', 'orange', 'pear']"
            ]
          },
          "metadata": {
            "tags": []
          },
          "execution_count": 17
        }
      ]
    },
    {
      "cell_type": "code",
      "metadata": {
        "id": "slC1yy7YIW0n",
        "colab_type": "code",
        "outputId": "5397fbd6-fccd-4fb5-c81b-cd348e7757b4",
        "colab": {
          "base_uri": "https://localhost:8080/",
          "height": 34
        }
      },
      "source": [
        "fruits"
      ],
      "execution_count": 0,
      "outputs": [
        {
          "output_type": "execute_result",
          "data": {
            "text/plain": [
              "['apple', 'apple', 'banana', 'banana', 'kiwi', 'orange', 'pear']"
            ]
          },
          "metadata": {
            "tags": []
          },
          "execution_count": 9
        }
      ]
    },
    {
      "cell_type": "code",
      "metadata": {
        "id": "pxo4AmUaIX3Q",
        "colab_type": "code",
        "colab": {}
      },
      "source": [
        ""
      ],
      "execution_count": 0,
      "outputs": []
    },
    {
      "cell_type": "markdown",
      "metadata": {
        "id": "QU1tIz6zIs6T",
        "colab_type": "text"
      },
      "source": [
        ">>> stack = [3, 4, 5]\n",
        "\n",
        ">>> stack.append(6)\n",
        "\n",
        ">>> stack.append(7)\n",
        "\n",
        ">>> stack\n",
        "[3, 4, 5, 6, 7]\n",
        "\n",
        ">>> stack.pop()\n",
        "7\n",
        "\n",
        ">>> stack\n",
        "[3, 4, 5, 6]\n",
        "\n",
        ">>> stack.pop()\n",
        "6\n",
        "\n",
        ">>> stack.pop()\n",
        "5\n",
        "\n",
        ">>> stack\n",
        "[3, 4]"
      ]
    },
    {
      "cell_type": "code",
      "metadata": {
        "id": "TtCm0jDAItrW",
        "colab_type": "code",
        "outputId": "9ad35f7c-ec2b-46b7-ae74-b9cb90e66bac",
        "colab": {
          "base_uri": "https://localhost:8080/",
          "height": 34
        }
      },
      "source": [
        "stack = [3, 4, \"5\"]\n",
        "\n",
        "stack.pop()\n",
        "stack"
      ],
      "execution_count": 0,
      "outputs": [
        {
          "output_type": "execute_result",
          "data": {
            "text/plain": [
              "[3, 4]"
            ]
          },
          "metadata": {
            "tags": []
          },
          "execution_count": 13
        }
      ]
    },
    {
      "cell_type": "markdown",
      "metadata": {
        "id": "n01U_wYFJxft",
        "colab_type": "text"
      },
      "source": [
        ">>> '{0}, {1}, {2}'.format('a', 'b', 'c')\n",
        "'a, b, c'\n",
        "\n",
        ">>> '{}, {}, {}'.format('a', 'b', 'c')  # 2.7+ only\n",
        "'a, b, c'\n",
        "\n",
        ">>> '{2}, {1}, {0}'.format('a', 'b', 'c')\n",
        "'c, b, a'\n",
        "\n",
        ">>> '{2}, {1}, {0}'.format(*'abc')      # unpacking argument sequence\n",
        "'c, b, a'\n",
        "\n",
        ">>> '{0}{1}{0}'.format('abra', 'cad')   # arguments' indices can be repeated\n",
        "'abracadabra'\n",
        "\n",
        "\n",
        ">>> 'Coordinates: {latitude}, {longitude}'.format(latitude='37.24N', longitude='-115.81W')\n",
        "'Coordinates: 37.24N, -115.81W'\n",
        "\n",
        ">>> coord = {'latitude': '37.24N', 'longitude': '-115.81W'}\n",
        "\n",
        ">>> 'Coordinates: {latitude}, {longitude}'.format(**coord)\n",
        "'Coordinates: 37.24N, -115.81W'"
      ]
    },
    {
      "cell_type": "code",
      "metadata": {
        "id": "CXhGIa4IXyOQ",
        "colab_type": "code",
        "outputId": "fc34386d-acfd-4aaf-dc64-ecb74a402566",
        "colab": {
          "base_uri": "https://localhost:8080/",
          "height": 34
        }
      },
      "source": [
        "'{0}, {2}, {1}'.format('a', 'b', 'c') \n",
        "\n",
        "\n",
        "\n",
        "coord = {'latitude': '37.24N', 'longitude': '-115.81W'}\n",
        "\n",
        "'Coordinates: {latitude}, {longitude}'.format(**coord) "
      ],
      "execution_count": 0,
      "outputs": [
        {
          "output_type": "execute_result",
          "data": {
            "text/plain": [
              "'Coordinates: 37.24N, -115.81W'"
            ]
          },
          "metadata": {
            "tags": []
          },
          "execution_count": 15
        }
      ]
    },
    {
      "cell_type": "markdown",
      "metadata": {
        "id": "CxbhpMkkK1ZU",
        "colab_type": "text"
      },
      "source": [
        ">>> import datetime\n",
        "\n",
        ">>> d = datetime.datetime(2010, 7, 4, 12, 15, 58)\n",
        "\n",
        "\n",
        "```\n",
        "# This is formatted as code\n",
        "```\n",
        "\n",
        "\n",
        ">>> '{:%Y-%m-%d %H:%M:%S}'.format(d)\n",
        "'2010-07-04 12:15:58'"
      ]
    },
    {
      "cell_type": "code",
      "metadata": {
        "id": "Ht0jFKRpYa-3",
        "colab_type": "code",
        "outputId": "7e685cb5-7f19-4c15-cabf-906afd307233",
        "colab": {
          "base_uri": "https://localhost:8080/",
          "height": 34
        }
      },
      "source": [
        "import datetime\n",
        "d = datetime.datetime(2010, 7, 4, 12, 15, 58)\n",
        "'{:%Y-%m-%d %H:%M:%S}'.format(d)"
      ],
      "execution_count": 0,
      "outputs": [
        {
          "output_type": "execute_result",
          "data": {
            "text/plain": [
              "'2010-07-04 12:15:58'"
            ]
          },
          "metadata": {
            "tags": []
          },
          "execution_count": 42
        }
      ]
    },
    {
      "cell_type": "code",
      "metadata": {
        "id": "nZw-wsRxJ1dN",
        "colab_type": "code",
        "colab": {}
      },
      "source": [
        ""
      ],
      "execution_count": 0,
      "outputs": []
    },
    {
      "cell_type": "markdown",
      "metadata": {
        "id": "-e2JYZMzLFA9",
        "colab_type": "text"
      },
      "source": [
        ">>> t = 12345, 54321, 'hello\n",
        "\n",
        ">>> t[0]\n",
        "12345\n",
        "\n",
        ">>> t\n",
        "(12345, 54321, 'hello!')"
      ]
    },
    {
      "cell_type": "code",
      "metadata": {
        "id": "eSE1Qqr1Y2D_",
        "colab_type": "code",
        "outputId": "56620bde-2cb4-425f-ae98-e88ff72109a0",
        "colab": {
          "base_uri": "https://localhost:8080/",
          "height": 182
        }
      },
      "source": [
        "t = 12345, 54321, 'hello'\n",
        "t[0] = 234"
      ],
      "execution_count": 0,
      "outputs": [
        {
          "output_type": "error",
          "ename": "TypeError",
          "evalue": "ignored",
          "traceback": [
            "\u001b[0;31m---------------------------------------------------------------------------\u001b[0m",
            "\u001b[0;31mTypeError\u001b[0m                                 Traceback (most recent call last)",
            "\u001b[0;32m<ipython-input-19-5947af683dd8>\u001b[0m in \u001b[0;36m<module>\u001b[0;34m()\u001b[0m\n\u001b[1;32m      1\u001b[0m \u001b[0mt\u001b[0m \u001b[0;34m=\u001b[0m \u001b[0;36m12345\u001b[0m\u001b[0;34m,\u001b[0m \u001b[0;36m54321\u001b[0m\u001b[0;34m,\u001b[0m \u001b[0;34m'hello'\u001b[0m\u001b[0;34m\u001b[0m\u001b[0;34m\u001b[0m\u001b[0m\n\u001b[0;32m----> 2\u001b[0;31m \u001b[0mt\u001b[0m\u001b[0;34m[\u001b[0m\u001b[0;36m0\u001b[0m\u001b[0;34m]\u001b[0m \u001b[0;34m=\u001b[0m \u001b[0;36m234\u001b[0m\u001b[0;34m\u001b[0m\u001b[0;34m\u001b[0m\u001b[0m\n\u001b[0m",
            "\u001b[0;31mTypeError\u001b[0m: 'tuple' object does not support item assignment"
          ]
        }
      ]
    },
    {
      "cell_type": "markdown",
      "metadata": {
        "id": "-wMnKQ3dMfr6",
        "colab_type": "text"
      },
      "source": [
        ">>> basket = ['apple', 'orange', 'apple', 'pear', 'orange', 'banana']\n",
        ">>> fruit = set(basket)               create a set without duplicates\n",
        ">>> fruit\n",
        "set(['orange', 'pear', 'apple', 'banana'])\n",
        ">>> 'orange' in fruit                 fast membership testing\n",
        "True\n",
        ">>> 'crabgrass' in fruit\n",
        "False\n",
        "\n",
        ">>>  Demonstrate set operations on unique letters from two words\n",
        "...\n",
        ">>> a = set('abracadabra')\n",
        "\n",
        ">>> b = set('alacazam')\n",
        "\n",
        ">>> a                                  \n",
        "unique letters in a\n",
        "set(['a', 'r', 'b', 'c', 'd'])\n",
        "\n",
        ">>> a - b                               \n",
        "letters in a but not in b\n",
        "set(['r', 'd', 'b'])\n",
        "\n",
        ">>> a | b                             \n",
        "letters in either a or b\n",
        "\n",
        "set(['a', 'c', 'r', 'd', 'b', 'm', 'z', 'l'])\n",
        "\n",
        ">>> a & b                              \n",
        "letters in both a and b\n",
        "set(['a', 'c'])\n",
        ">>> a ^ b                              \n",
        "letters in a or b but not both\n",
        "set(['r', 'd', 'b', 'm', 'z', 'l'])"
      ]
    },
    {
      "cell_type": "code",
      "metadata": {
        "id": "kUY8ifoFZitW",
        "colab_type": "code",
        "outputId": "b5a7c2be-4eaa-4d71-b210-e27120866627",
        "colab": {
          "base_uri": "https://localhost:8080/",
          "height": 51
        }
      },
      "source": [
        "basket = ['apple', 'orange', 'apple', 'pear', 'orange', 'banana']\n",
        "a = set(basket)\n",
        "print(a)\n",
        "\n",
        "\n",
        "\n",
        "b = set(['orange', 'pear', 'zoo'])\n",
        "\n",
        "b - a"
      ],
      "execution_count": 0,
      "outputs": [
        {
          "output_type": "stream",
          "text": [
            "{'orange', 'pear', 'banana', 'apple'}\n"
          ],
          "name": "stdout"
        },
        {
          "output_type": "execute_result",
          "data": {
            "text/plain": [
              "{'zoo'}"
            ]
          },
          "metadata": {
            "tags": []
          },
          "execution_count": 24
        }
      ]
    },
    {
      "cell_type": "markdown",
      "metadata": {
        "id": "2-PT2YHZNZOU",
        "colab_type": "text"
      },
      "source": [
        ">>> tel = {'jack': 4098, 'sape': 4139}\n",
        "\n",
        ">>> tel['guido'] = 4127\n",
        "\n",
        ">>> tel\n",
        "{'sape': 4139, 'guido': 4127, 'jack': 4098}\n",
        "\n",
        ">>> tel['jack']\n",
        "4098\n",
        "\n",
        ">>> del tel['sape']\n",
        "\n",
        ">>> tel['irv'] = 4127\n",
        "\n",
        ">>> tel\n",
        "{'guido': 4127, 'irv': 4127, 'jack': 4098}\n",
        "\n",
        ">>> tel.keys()\n",
        "['guido', 'irv', 'jack']\n",
        "\n",
        ">>> 'guido' in tel\n",
        "True\n",
        "\n",
        "dict(sape=4139, guido=4127, jack=4098)\n",
        "\n",
        "{'sape': 4139, 'jack': 4098, 'guido': 4127}"
      ]
    },
    {
      "cell_type": "code",
      "metadata": {
        "id": "SAcScQzkLGxf",
        "colab_type": "code",
        "colab": {}
      },
      "source": [
        "tel = {0: 4098, '1': 4139}"
      ],
      "execution_count": 0,
      "outputs": []
    },
    {
      "cell_type": "code",
      "metadata": {
        "id": "OB5DTmFWbgit",
        "colab_type": "code",
        "outputId": "d66eaa6d-119d-473a-dbe5-de74769f5ec5",
        "colab": {
          "base_uri": "https://localhost:8080/",
          "height": 34
        }
      },
      "source": [
        "tel[0]"
      ],
      "execution_count": 0,
      "outputs": [
        {
          "output_type": "execute_result",
          "data": {
            "text/plain": [
              "4098"
            ]
          },
          "metadata": {
            "tags": []
          },
          "execution_count": 29
        }
      ]
    },
    {
      "cell_type": "code",
      "metadata": {
        "id": "-2OYdQ2tbhZd",
        "colab_type": "code",
        "colab": {}
      },
      "source": [
        ""
      ],
      "execution_count": 0,
      "outputs": []
    }
  ]
}